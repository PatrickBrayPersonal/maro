{
 "cells": [
  {
   "cell_type": "markdown",
   "metadata": {},
   "source": [
    "# Simple Tutorial to MARO Supply Chain Scenario"
   ]
  },
  {
   "cell_type": "markdown",
   "metadata": {},
   "source": [
    "## MARO installation"
   ]
  },
  {
   "cell_type": "markdown",
   "metadata": {},
   "source": [
    "### Install from scratch"
   ]
  },
  {
   "cell_type": "markdown",
   "metadata": {},
   "source": [
    "For the installation step, we suggest you to [install MARO from source](https://github.com/microsoft/maro#install-maro-from-source):\n",
    "  - Create your own conda env for MARO\n",
    "  - Git Clone the whole source code:\n",
    "      ```sh\n",
    "      git clone https://github.com/microsoft/maro.git\n",
    "      ```\n",
    "  - Run install maro script:\n",
    "      ```sh\n",
    "      bash scripts/install_maro.sh\n",
    "      ```\n",
    "      or\n",
    "      ```powershell\n",
    "      .\\scripts\\install_maro.bat\n",
    "      ```\n",
    "  - Set the PYTHONPATH before running:\n",
    "      ```sh\n",
    "      export PYTHONPATH=PATH-TO-MARO\n",
    "      ```\n",
    "      or\n",
    "      ```powershell\n",
    "      $Env:PYTHONPATH=PATH-TO-MARO\n",
    "      ```"
   ]
  },
  {
   "cell_type": "markdown",
   "metadata": {},
   "source": [
    "### Re-build MARO backend"
   ]
  },
  {
   "cell_type": "markdown",
   "metadata": {},
   "source": [
    "If you already install MARO before, we suggest you to re-build maro since we've updated the backend part recently.\n",
    "\n",
    "You can simply re-build maro by running:\n",
    "```sh\n",
    "bash scripts/build_maro.sh\n",
    "```\n",
    "or\n",
    "```powershell\n",
    ".\\scripts\\build_maro.bat\n",
    "```"
   ]
  },
  {
   "cell_type": "markdown",
   "metadata": {},
   "source": [
    "## Try example code in branch **sc_refinement**"
   ]
  },
  {
   "cell_type": "markdown",
   "metadata": {},
   "source": [
    "If you meet any conflict when running `git pull` to update your local branch, try to delete the local one and pull it again. The conflict was caused by our recent force commit history change."
   ]
  },
  {
   "cell_type": "markdown",
   "metadata": {},
   "source": [
    "### Topology data"
   ]
  },
  {
   "cell_type": "markdown",
   "metadata": {},
   "source": [
    "You can find the data used by topologies in [the shared folder](https://microsoftapc-my.sharepoint.com/personal/lesong_microsoft_com/_layouts/15/onedrive.aspx?ga=1&id=%2Fpersonal%2Flesong%5Fmicrosoft%5Fcom%2FDocuments%2FSCI%2FExperiment%20Results%2FTopologies):\n",
    "- *plant.rar*: the data used by `plant` and `super_vendor`.\n",
    "- *SCI_10.rar*: the topologies with data sampled from SCI, including:\n",
    "  - `SCI_10_default`: The stores only purchase products from the direct upstream storage warehouse.\n",
    "  - `SCI_10_cheapest_storage_enlarged`: The stores only purchase products from the one with cheapest transportation cost, it could be store or storage warehouse. Also, the storage capacity of stores and storage warehouses are enlarged to 10x.\n",
    "  - `SCI_10_shortest_storage_enlarged`: The stores only purchase products from the one with shortest leading time, it could be store or storage warehouse. Also, the storage capacity of stores and storage warehouses are enlarged to 10x.\n",
    "- *SCI_500.rar*: the topologies with data sampled from SCI, including:\n",
    "  - `SCI_500_default`: The stores only purchase products from the direct upstream storage warehouse.\n",
    "  - `SCI_500_cheapest_storage_enlarged`: The stores only purchase products from the one with cheapest transportation cost, it could be store or storage warehouse. Also, the storage capacity of stores and storage warehouses are enlarged to 10x.\n",
    "  - `SCI_500_shortest_storage_enlarged`: The stores only purchase products from the one with shortest leading time, it could be store or storage warehouse. Also, the storage capacity of stores and storage warehouses are enlarged to 10x.\n",
    "\n",
    "You can uncompress these topologies and put them in directory: *maro/simulator/scenarios/supply_chain/topologies*"
   ]
  },
  {
   "cell_type": "markdown",
   "metadata": {},
   "source": [
    "### Simple random policy example"
   ]
  },
  {
   "cell_type": "markdown",
   "metadata": {},
   "source": [
    "The simple random example shows the interface of the Supply Chain Simulator and illustrates how to interact with it. As you can see in line 68 of file [*examples/supply_chain/simple_random_example.py*](https://github.com/microsoft/maro/blob/sc_refinement/examples/supply_chain/simple_random_example.py#L68), we can deliver `ManufactureAction` and `ConsumerAction` to `Env`, and call function `step()` to trigger the simulation process. Try the simple example by:\n",
    "```sh\n",
    "python examples/supply_chain/simple_random_example.py\n",
    "```"
   ]
  },
  {
   "cell_type": "code",
   "execution_count": null,
   "metadata": {
    "ExecuteTime": {
     "start_time": "2022-06-14T15:28:44.941Z"
    },
    "vscode": {
     "languageId": "python"
    }
   },
   "outputs": [],
   "source": [
    "!python examples/supply_chain/simple_random_example.py"
   ]
  },
  {
   "cell_type": "markdown",
   "metadata": {},
   "source": [
    "### Interaction with Non-RL policy"
   ]
  },
  {
   "cell_type": "markdown",
   "metadata": {},
   "source": [
    "The complex example leverage the RL workflow in MARO. And the example code enable many configurations. Simpler configurations are listed in file [*examples/supply_chain/rl/config.py*](https://github.com/microsoft/maro/blob/sc_refinement/examples/supply_chain/rl/config.py). The basic ones you may need are:\n",
    "- `ALGO` in line 48: The algorithm to use. \"DQN\" and \"PPO\" are RL algorithms, \"EOQ\" is a rule-based algorithm, \"BSP\" is an OR-algorithm base-stock policy.\n",
    "- `TOPOLOGY` in line 67: The \"plant\" and \"super_vendor\" are toy topologies. You can use the \"SCI(_XX)\" ones if you add the topology under directory *maro/simulator/scenarios/supply_chain/topologies*\n",
    "- `PLOT_RENDER` in line 72: Render figures to show important metrics during experiment or not.\n",
    "- `EXP_NAME` in line 111: The experiment name, the experiment logs would be saved to the log path with `EXP_NAME` as the folder name."
   ]
  },
  {
   "cell_type": "markdown",
   "metadata": {},
   "source": [
    "With setting `ALGO = \"EOQ\"` in [line 48](https://github.com/microsoft/maro/blob/sc_refinement/examples/supply_chain/rl/config.py#L48), we can try to simulate with the rule-based policy. Since the non-rl policy does not require any training process, we can use *evaluate_only* mode by:\n",
    "```sh\n",
    "python examples/rl/run_rl_example.py examples/rl/supply_chain.yml --evaluate_only\n",
    "```"
   ]
  },
  {
   "cell_type": "code",
   "execution_count": null,
   "metadata": {
    "ExecuteTime": {
     "start_time": "2022-06-14T15:29:32.105Z"
    },
    "vscode": {
     "languageId": "python"
    }
   },
   "outputs": [],
   "source": [
    "!python examples/rl/run_rl_example.py examples/rl/supply_chain.yml --evaluate_only"
   ]
  },
  {
   "cell_type": "markdown",
   "metadata": {},
   "source": [
    "### Interaction with RL policy"
   ]
  },
  {
   "cell_type": "markdown",
   "metadata": {},
   "source": [
    "If you want to try trainable RL policy, you may also need to adjust the training workflow in file [*examples/rl/supply_chain.yml*](https://github.com/microsoft/maro/blob/sc_refinement/examples/rl/supply_chain.yml). The basic ones you may need are:\n",
    "- `num_episodes` in line 15: Number of episode to run. Each episode is one cycle of roll-out and policy training.\n",
    "- `eval_schedule` in line 17: Intervals between two evaluation process. `eval_schedule: 5` means will evaluate every 5 episodes.\n",
    "- `interval` in line 31: Intervals between two dump action of policy network."
   ]
  },
  {
   "cell_type": "markdown",
   "metadata": {},
   "source": [
    "With setting `ALGO = \"PPO\"` in [line 48](https://github.com/microsoft/maro/blob/sc_refinement/examples/supply_chain/rl/config.py#L48) of *config.py*, we can try to simulate with the PPO algorithm based policy. The rl policy requires training process, so we need to enable training mode by:\n",
    "```sh\n",
    "python examples/rl/run_rl_example.py examples/rl/supply_chain.yml\n",
    "```"
   ]
  },
  {
   "cell_type": "code",
   "execution_count": null,
   "metadata": {
    "vscode": {
     "languageId": "python"
    }
   },
   "outputs": [],
   "source": [
    "!python examples/rl/run_rl_example.py examples/rl/supply_chain.yml"
   ]
  },
  {
   "cell_type": "markdown",
   "metadata": {},
   "source": [
    "### Much more complex configuration"
   ]
  },
  {
   "cell_type": "markdown",
   "metadata": {},
   "source": [
    "The complex solution configurations are gathered in file [*examples/supply_chain/rl/rl_component_bundle.py*](https://github.com/microsoft/maro/blob/sc_refinement/examples/supply_chain/rl/rl_component_bundle.py), the ones you may concern about are:\n",
    "- `get_agent2policy` in line 66: the mapping from the entity id in the scenario to the policy alias.\n",
    "- `get_policy_creator` in line 84: what exactly the policy is for each policy alias.\n",
    "- `get_trainer_creator` in line 97: the trainer for the policy training. It is related to what algorithm to use.\n",
    "- `get_device_mapping` in line 109: the mapping from the policy alias to the training device.\n",
    "- `get_policy_trainer_mapping` in line 135: the mapping from the policy alias to the trainer alias."
   ]
  },
  {
   "cell_type": "markdown",
   "metadata": {},
   "source": [
    "Besides, the **state shaping**, **action shaping** and **reward shaping** logics are defined in file [*examples/supply_chain/rl/env_sampler.py*](https://github.com/microsoft/maro/blob/sc_refinement/examples/supply_chain/rl/env_sampler.py), while [*examples/supply_chain/rl/rl_agent_state.py*](https://github.com/microsoft/maro/blob/sc_refinement/examples/supply_chain/rl/rl_agent_state.py) and [*examples/supply_chain/rl/or_agent_state.py*](https://github.com/microsoft/maro/blob/sc_refinement/examples/supply_chain/rl/or_agent_state.py) are used by **state shaping** logic."
   ]
  },
  {
   "cell_type": "markdown",
   "metadata": {},
   "source": []
  }
 ],
 "metadata": {
  "kernelspec": {
   "display_name": "Python 3 (ipykernel)",
   "language": "python",
   "name": "python3"
  },
  "toc": {
   "base_numbering": 1,
   "nav_menu": {},
   "number_sections": true,
   "sideBar": true,
   "skip_h1_title": false,
   "title_cell": "Table of Contents",
   "title_sidebar": "Contents",
   "toc_cell": false,
   "toc_position": {},
   "toc_section_display": true,
   "toc_window_display": true
  },
  "varInspector": {
   "cols": {
    "lenName": 16,
    "lenType": 16,
    "lenVar": 40
   },
   "kernels_config": {
    "python": {
     "delete_cmd_postfix": "",
     "delete_cmd_prefix": "del ",
     "library": "var_list.py",
     "varRefreshCmd": "print(var_dic_list())"
    },
    "r": {
     "delete_cmd_postfix": ") ",
     "delete_cmd_prefix": "rm(",
     "library": "var_list.r",
     "varRefreshCmd": "cat(var_dic_list()) "
    }
   },
   "types_to_exclude": [
    "module",
    "function",
    "builtin_function_or_method",
    "instance",
    "_Feature"
   ],
   "window_display": false
  }
 },
 "nbformat": 4,
 "nbformat_minor": 2
}
